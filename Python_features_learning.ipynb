{
  "nbformat": 4,
  "nbformat_minor": 0,
  "metadata": {
    "colab": {
      "name": "Python features learning.ipynb",
      "provenance": [],
      "collapsed_sections": [],
      "authorship_tag": "ABX9TyOWhojDlsd3a+uwWp+S2YaW",
      "include_colab_link": true
    },
    "kernelspec": {
      "name": "python3",
      "display_name": "Python 3"
    },
    "language_info": {
      "name": "python"
    }
  },
  "cells": [
    {
      "cell_type": "markdown",
      "metadata": {
        "id": "view-in-github",
        "colab_type": "text"
      },
      "source": [
        "<a href=\"https://colab.research.google.com/github/bharathulaprasad/webcrawling/blob/main/Python_features_learning.ipynb\" target=\"_parent\"><img src=\"https://colab.research.google.com/assets/colab-badge.svg\" alt=\"Open In Colab\"/></a>"
      ]
    },
    {
      "cell_type": "markdown",
      "source": [
        "1. Lambda, map, filter, reduce"
      ],
      "metadata": {
        "id": "JA01peZ51eI_"
      }
    },
    {
      "cell_type": "code",
      "source": [
        "def square_fn(x):\n",
        "    return x * x\n",
        "\n",
        "square_ld = lambda x: x * x\n",
        "\n",
        "for i in range(10):\n",
        "    assert (square_fn(i) == square_ld(i)) \n",
        "    "
      ],
      "metadata": {
        "id": "RKajj48W1kge"
      },
      "execution_count": 22,
      "outputs": []
    },
    {
      "cell_type": "code",
      "source": [
        "nums = [1/3, 333/7, 2323/2230, 40/34, 2/3]\n",
        "nums_squared = [num * num for num in nums]\n",
        "print(nums_squared)"
      ],
      "metadata": {
        "colab": {
          "base_uri": "https://localhost:8080/"
        },
        "id": "irTgpc3e_AoS",
        "outputId": "06e75b62-5a43-462d-d6a5-80f4235797d2"
      },
      "execution_count": 23,
      "outputs": [
        {
          "output_type": "stream",
          "name": "stdout",
          "text": [
            "[0.1111111111111111, 2263.0408163265306, 1.0851472983570953, 1.384083044982699, 0.4444444444444444]\n"
          ]
        }
      ]
    },
    {
      "cell_type": "code",
      "source": [
        "nums_squared_1 = map(square_fn, nums)\n",
        "nums_squared_2 = map(lambda x: x * x, nums)\n",
        "print(list(nums_squared_1))"
      ],
      "metadata": {
        "colab": {
          "base_uri": "https://localhost:8080/"
        },
        "id": "lOFQULh1_EOy",
        "outputId": "c128832f-6556-4434-af3f-4bc8465f4ba6"
      },
      "execution_count": 24,
      "outputs": [
        {
          "output_type": "stream",
          "name": "stdout",
          "text": [
            "[0.1111111111111111, 2263.0408163265306, 1.0851472983570953, 1.384083044982699, 0.4444444444444444]\n"
          ]
        }
      ]
    },
    {
      "cell_type": "markdown",
      "source": [
        " calculate the mean squared error of a simple linear function f(x) = ax + b"
      ],
      "metadata": {
        "id": "duw5Z0lqADRc"
      }
    },
    {
      "cell_type": "code",
      "source": [
        "a, b = 3, -0.5\n",
        "xs = [2, 3, 4, 5]\n",
        "labels = [6.4, 8.9, 10.9, 15.3]\n",
        "\n",
        "# Method 1: using a loop\n",
        "errors = []\n",
        "for i, x in enumerate(xs):\n",
        "    errors.append((a * x + b - labels[i]) ** 2)\n",
        "result1 = sum(errors) ** 0.5 / len(xs)\n",
        "\n",
        "# Method 2: using map\n",
        "diffs = map(lambda x, y: (a * x + b - y) ** 2, xs, labels)\n",
        "result2 = sum(diffs) ** 0.5 / len(xs)\n",
        "\n",
        "print(result1, result2)"
      ],
      "metadata": {
        "colab": {
          "base_uri": "https://localhost:8080/"
        },
        "id": "bzwjpv-S_YBX",
        "outputId": "892f9478-76e0-4e9a-fcd5-f2fbb3ed6748"
      },
      "execution_count": 25,
      "outputs": [
        {
          "output_type": "stream",
          "name": "stdout",
          "text": [
            "0.35089172119045514 0.35089172119045514\n"
          ]
        }
      ]
    },
    {
      "cell_type": "code",
      "source": [
        "bad_preds = filter(lambda x: x > 0.5, errors)\n",
        "print(errors)\n",
        "print(list(bad_preds))"
      ],
      "metadata": {
        "colab": {
          "base_uri": "https://localhost:8080/"
        },
        "id": "QgzGXhzjBvxy",
        "outputId": "4e955a5c-fe76-469e-93b9-d600f8d44202"
      },
      "execution_count": 26,
      "outputs": [
        {
          "output_type": "stream",
          "name": "stdout",
          "text": [
            "[0.8100000000000006, 0.16000000000000028, 0.3599999999999996, 0.6400000000000011]\n",
            "[0.8100000000000006, 0.6400000000000011]\n"
          ]
        }
      ]
    },
    {
      "cell_type": "markdown",
      "source": [
        "# Reduce example"
      ],
      "metadata": {
        "id": "lub1hvqkDPT2"
      }
    },
    {
      "cell_type": "code",
      "source": [
        "product = 1\n",
        "for num in nums:\n",
        "    product *= num\n",
        "print(product)"
      ],
      "metadata": {
        "colab": {
          "base_uri": "https://localhost:8080/"
        },
        "id": "3C3gJ7eBDRhS",
        "outputId": "58eaddb3-d8b7-49fd-fc34-03b72c70c453"
      },
      "execution_count": 27,
      "outputs": [
        {
          "output_type": "stream",
          "name": "stdout",
          "text": [
            "12.95564683272412\n"
          ]
        }
      ]
    },
    {
      "cell_type": "code",
      "source": [
        "from functools import reduce\n",
        "product = reduce(lambda x, y: x * y, nums)\n",
        "print(product)"
      ],
      "metadata": {
        "colab": {
          "base_uri": "https://localhost:8080/"
        },
        "id": "plR_ii76DTTO",
        "outputId": "89930853-b2e4-4094-bdf2-3752e783e93e"
      },
      "execution_count": 28,
      "outputs": [
        {
          "output_type": "stream",
          "name": "stdout",
          "text": [
            "12.95564683272412\n"
          ]
        }
      ]
    },
    {
      "cell_type": "code",
      "source": [
        "elems = [1, 2, 3, 4]\n",
        "a, b, c, d = elems\n",
        "print(a, b, c, d)"
      ],
      "metadata": {
        "colab": {
          "base_uri": "https://localhost:8080/"
        },
        "id": "fp6-CZlJDscm",
        "outputId": "b3936b1a-100e-48e6-81f0-1f8e95840cbf"
      },
      "execution_count": 29,
      "outputs": [
        {
          "output_type": "stream",
          "name": "stdout",
          "text": [
            "1 2 3 4\n"
          ]
        }
      ]
    },
    {
      "cell_type": "markdown",
      "source": [
        "#Unpack a list"
      ],
      "metadata": {
        "id": "HzZta3xrDzzq"
      }
    },
    {
      "cell_type": "code",
      "source": [
        "a, *new_elems, d = elems\n",
        "print(a)\n",
        "print(new_elems)\n",
        "print(d)"
      ],
      "metadata": {
        "colab": {
          "base_uri": "https://localhost:8080/"
        },
        "id": "7nCX_5_3D1rd",
        "outputId": "dcd7635a-1e98-4adf-c6b5-f5598ac1ed3b"
      },
      "execution_count": 30,
      "outputs": [
        {
          "output_type": "stream",
          "name": "stdout",
          "text": [
            "1\n",
            "[2, 3]\n",
            "4\n"
          ]
        }
      ]
    },
    {
      "cell_type": "markdown",
      "source": [
        "# Slicing"
      ],
      "metadata": {
        "id": "KvialoN7EFMu"
      }
    },
    {
      "cell_type": "code",
      "source": [
        "elems = list(range(10))\n",
        "print(elems)\n",
        "print(elems[::-1])"
      ],
      "metadata": {
        "colab": {
          "base_uri": "https://localhost:8080/"
        },
        "id": "kRW3KBmbEGpY",
        "outputId": "31415203-5af8-47aa-f846-a8806d1cc0cd"
      },
      "execution_count": 31,
      "outputs": [
        {
          "output_type": "stream",
          "name": "stdout",
          "text": [
            "[0, 1, 2, 3, 4, 5, 6, 7, 8, 9]\n",
            "[9, 8, 7, 6, 5, 4, 3, 2, 1, 0]\n"
          ]
        }
      ]
    },
    {
      "cell_type": "code",
      "source": [
        "evens = elems[::2]\n",
        "print(evens)\n",
        "\n",
        "reversed_evens = elems[-2::-2]\n",
        "print(reversed_evens)"
      ],
      "metadata": {
        "colab": {
          "base_uri": "https://localhost:8080/"
        },
        "id": "aBkjMlT0EIPc",
        "outputId": "61aeff9c-1de4-4fea-c4e2-495ee9d0c701"
      },
      "execution_count": 32,
      "outputs": [
        {
          "output_type": "stream",
          "name": "stdout",
          "text": [
            "[0, 2, 4, 6, 8]\n",
            "[8, 6, 4, 2, 0]\n"
          ]
        }
      ]
    },
    {
      "cell_type": "code",
      "source": [
        "del elems[::2]\n",
        "print(elems)"
      ],
      "metadata": {
        "colab": {
          "base_uri": "https://localhost:8080/"
        },
        "id": "g5LnDMLuEOct",
        "outputId": "0ab2695c-2e3d-4f3c-f57f-6a89820c57c7"
      },
      "execution_count": 33,
      "outputs": [
        {
          "output_type": "stream",
          "name": "stdout",
          "text": [
            "[1, 3, 5, 7, 9]\n"
          ]
        }
      ]
    },
    {
      "cell_type": "markdown",
      "source": [
        "# Insertion"
      ],
      "metadata": {
        "id": "1sXshqjrESVV"
      }
    },
    {
      "cell_type": "code",
      "source": [
        "elems = list(range(10))\n",
        "elems[1] = 22\n",
        "print(elems)"
      ],
      "metadata": {
        "colab": {
          "base_uri": "https://localhost:8080/"
        },
        "id": "MXU8IgzREUag",
        "outputId": "936fe621-4d47-4ce1-9221-9f9809bbc8c9"
      },
      "execution_count": 35,
      "outputs": [
        {
          "output_type": "stream",
          "name": "stdout",
          "text": [
            "[0, 22, 2, 3, 4, 5, 6, 7, 8, 9]\n"
          ]
        }
      ]
    },
    {
      "cell_type": "markdown",
      "source": [
        "#Replace"
      ],
      "metadata": {
        "id": "DM1s6SvJEeSz"
      }
    },
    {
      "cell_type": "code",
      "source": [
        "elems = list(range(10))\n",
        "elems[1:2] = [20, 30, 40]\n",
        "print(elems)"
      ],
      "metadata": {
        "colab": {
          "base_uri": "https://localhost:8080/"
        },
        "id": "vvo9nOOsEfbH",
        "outputId": "29d2a6de-d0c2-4fba-8027-ed23ac4dc915"
      },
      "execution_count": 36,
      "outputs": [
        {
          "output_type": "stream",
          "name": "stdout",
          "text": [
            "[0, 20, 30, 40, 2, 3, 4, 5, 6, 7, 8, 9]\n"
          ]
        }
      ]
    },
    {
      "cell_type": "code",
      "source": [
        "elems = list(range(10))\n",
        "elems[1:1] = [0.2, 0.3, 0.5]\n",
        "print(elems)"
      ],
      "metadata": {
        "colab": {
          "base_uri": "https://localhost:8080/"
        },
        "id": "q_3f9o7PEoVQ",
        "outputId": "a89be993-b34e-469d-eb58-58cdfe542d17"
      },
      "execution_count": 37,
      "outputs": [
        {
          "output_type": "stream",
          "name": "stdout",
          "text": [
            "[0, 0.2, 0.3, 0.5, 1, 2, 3, 4, 5, 6, 7, 8, 9]\n"
          ]
        }
      ]
    },
    {
      "cell_type": "markdown",
      "source": [
        "#Flattening"
      ],
      "metadata": {
        "id": "KUjwmFPsEtJU"
      }
    },
    {
      "cell_type": "code",
      "source": [
        "list_of_lists = [[1], [2, 3], [4, 5, 6]]\n",
        "sum(list_of_lists, [])"
      ],
      "metadata": {
        "colab": {
          "base_uri": "https://localhost:8080/"
        },
        "id": "Q-sTX6DPEuY5",
        "outputId": "16fce826-ad46-4c21-cd6b-a3f7a91cf655"
      },
      "execution_count": 38,
      "outputs": [
        {
          "output_type": "execute_result",
          "data": {
            "text/plain": [
              "[1, 2, 3, 4, 5, 6]"
            ]
          },
          "metadata": {},
          "execution_count": 38
        }
      ]
    },
    {
      "cell_type": "code",
      "source": [
        "nested_lists = [[1, 2], [[3, 4], [5, 6], [[7, 8], [9, 10], [[11, [12, 13]]]]]]\n",
        "flatten = lambda x: [y for l in x for y in flatten(l)] if type(x) is list else [x]\n",
        "flatten(nested_lists)"
      ],
      "metadata": {
        "colab": {
          "base_uri": "https://localhost:8080/"
        },
        "id": "D_yHTrBlE0PQ",
        "outputId": "a0ab5c61-e9fa-4daf-ac33-4c540bceadd4"
      },
      "execution_count": 39,
      "outputs": [
        {
          "output_type": "execute_result",
          "data": {
            "text/plain": [
              "[1, 2, 3, 4, 5, 6, 7, 8, 9, 10, 11, 12, 13]"
            ]
          },
          "metadata": {},
          "execution_count": 39
        }
      ]
    },
    {
      "cell_type": "markdown",
      "source": [
        "#List vs Generator"
      ],
      "metadata": {
        "id": "KkmQHslGFDaR"
      }
    },
    {
      "cell_type": "markdown",
      "source": [
        "This one takes O(mn)"
      ],
      "metadata": {
        "id": "QQcwjfvOFqwU"
      }
    },
    {
      "cell_type": "code",
      "source": [
        "tokens = ['i', 'want', 'to', 'go', 'to', 'school']\n",
        "\n",
        "def ngrams(tokens, n):\n",
        "    length = len(tokens)\n",
        "    grams = []\n",
        "    for i in range(length - n + 1):\n",
        "        grams.append(tokens[i:i+n])\n",
        "    return grams\n",
        "\n",
        "ngrams(tokens, 3)"
      ],
      "metadata": {
        "colab": {
          "base_uri": "https://localhost:8080/"
        },
        "id": "y0_Fr9HoFFzy",
        "outputId": "f98d3e3e-8f07-4a66-bcd8-22d6ece980e0"
      },
      "execution_count": 42,
      "outputs": [
        {
          "output_type": "execute_result",
          "data": {
            "text/plain": [
              "[['i', 'want', 'to'],\n",
              " ['want', 'to', 'go'],\n",
              " ['to', 'go', 'to'],\n",
              " ['go', 'to', 'school']]"
            ]
          },
          "metadata": {},
          "execution_count": 42
        }
      ]
    },
    {
      "cell_type": "markdown",
      "source": [
        "# Using Generator"
      ],
      "metadata": {
        "id": "JeGPMzunFmWo"
      }
    },
    {
      "cell_type": "markdown",
      "source": [
        "# This one takes O(m+n)"
      ],
      "metadata": {
        "id": "nhBtC1pQFvKW"
      }
    },
    {
      "cell_type": "code",
      "source": [
        "def ngrams(tokens, n):\n",
        "    length = len(tokens)\n",
        "    for i in range(length - n + 1):\n",
        "        yield tokens[i:i+n]\n",
        "\n",
        "ngrams_generator = ngrams(tokens, 3)\n",
        "print(ngrams_generator)\n",
        "for ngram in ngrams_generator:\n",
        "    print(ngram)"
      ],
      "metadata": {
        "colab": {
          "base_uri": "https://localhost:8080/"
        },
        "id": "V1-zHYvKFyvd",
        "outputId": "f1cb1f7e-5d2d-4a15-8f0a-b1d70ea13a15"
      },
      "execution_count": 43,
      "outputs": [
        {
          "output_type": "stream",
          "name": "stdout",
          "text": [
            "<generator object ngrams at 0x7fd96c935ad0>\n",
            "['i', 'want', 'to']\n",
            "['want', 'to', 'go']\n",
            "['to', 'go', 'to']\n",
            "['go', 'to', 'school']\n"
          ]
        }
      ]
    },
    {
      "cell_type": "markdown",
      "source": [
        "# Another way to create ngrams is slice ad ZIP"
      ],
      "metadata": {
        "id": "xuaBj5Z1F-4B"
      }
    },
    {
      "cell_type": "code",
      "source": [
        "def ngrams(tokens, n):\n",
        "    length = len(tokens)\n",
        "    slices = (tokens[i:length-n+i+1] for i in range(n))\n",
        "    return zip(*slices)\n",
        "\n",
        "ngrams_generator = ngrams(tokens, 3)\n",
        "print(ngrams_generator) # zip objects are generators\n",
        "for ngram in ngrams_generator:\n",
        "    print(ngram)"
      ],
      "metadata": {
        "colab": {
          "base_uri": "https://localhost:8080/"
        },
        "id": "v0i0ZMPEF9zQ",
        "outputId": "e7550576-866e-41d2-9b3a-e438ac9ddf2d"
      },
      "execution_count": 44,
      "outputs": [
        {
          "output_type": "stream",
          "name": "stdout",
          "text": [
            "<zip object at 0x7fd96c947be0>\n",
            "('i', 'want', 'to')\n",
            "('want', 'to', 'go')\n",
            "('to', 'go', 'to')\n",
            "('go', 'to', 'school')\n"
          ]
        }
      ]
    },
    {
      "cell_type": "markdown",
      "source": [
        "# Classes and some magic numbers"
      ],
      "metadata": {
        "id": "rz374bl8GJEj"
      }
    },
    {
      "cell_type": "code",
      "source": [
        "# In Python, magic methods are prefixed and suffixed with the double underscore __, also known as dunder. The most wellknown magic method is probably __init__.\n",
        "class Node:\n",
        "    \"\"\" A struct to denote the node of a binary tree.\n",
        "    It contains a value and pointers to left and right children.\n",
        "    \"\"\"\n",
        "    def __init__(self, value, left=None, right=None):\n",
        "        self.value = value\n",
        "        self.left = left\n",
        "        self.right = right\n",
        "        \n",
        "    def __repr__(self):    \n",
        "        strings = [f'value: {self.value}']\n",
        "        strings.append(f'left: {self.left.value}' if self.left else 'left: None')\n",
        "        strings.append(f'right: {self.right.value}' if self.right else 'right: None')\n",
        "        return ', '.join(strings)\n",
        "\n",
        "left = Node(4)\n",
        "root = Node(5, left)\n",
        "print(root)"
      ],
      "metadata": {
        "colab": {
          "base_uri": "https://localhost:8080/"
        },
        "id": "WTwygnvzGMAS",
        "outputId": "653e761e-e761-401b-f70f-8129c7503d69"
      },
      "execution_count": 45,
      "outputs": [
        {
          "output_type": "stream",
          "name": "stdout",
          "text": [
            "value: 5, left: 4, right: None\n"
          ]
        }
      ]
    },
    {
      "cell_type": "code",
      "source": [
        "class Node:\n",
        "    \"\"\" A struct to denote the node of a binary tree.\n",
        "    It contains a value and pointers to left and right children.\n",
        "    \"\"\"\n",
        "    def __init__(self, value, left=None, right=None):\n",
        "        self.value = value\n",
        "        self.left = left\n",
        "        self.right = right\n",
        "    \n",
        "    def __eq__(self, other):\n",
        "        return self.value == other.value\n",
        "    \n",
        "    def __lt__(self, other):\n",
        "        return self.value < other.value\n",
        "    \n",
        "    def __ge__(self, other):\n",
        "        return self.value >= other.value\n",
        "\n",
        "\n",
        "left = Node(4)\n",
        "root = Node(5, left)\n",
        "print(left == root)\n",
        "print(left < root)\n",
        "print(left >= root)"
      ],
      "metadata": {
        "colab": {
          "base_uri": "https://localhost:8080/"
        },
        "id": "gPSwyHnzHALM",
        "outputId": "3a1ce218-6f82-433e-f52c-7200649de32d"
      },
      "execution_count": 47,
      "outputs": [
        {
          "output_type": "stream",
          "name": "stdout",
          "text": [
            "False\n",
            "True\n",
            "False\n"
          ]
        }
      ]
    },
    {
      "cell_type": "markdown",
      "source": [
        "#Objects attributes and locals"
      ],
      "metadata": {
        "id": "CpaUpDrHHz2f"
      }
    },
    {
      "cell_type": "code",
      "source": [
        "class Model1:\n",
        "    def __init__(self, hidden_size=100, num_layers=3, learning_rate=3e-4):\n",
        "        print(locals())\n",
        "        self.hidden_size = hidden_size\n",
        "        self.num_layers = num_layers\n",
        "        self.learning_rate = learning_rate\n",
        "\n",
        "model1 = Model1()\n",
        "model1.__dict__"
      ],
      "metadata": {
        "colab": {
          "base_uri": "https://localhost:8080/"
        },
        "id": "4T3KU5NNH2ZP",
        "outputId": "e69e6534-92ad-4c31-b04c-03279a0fa30a"
      },
      "execution_count": 48,
      "outputs": [
        {
          "output_type": "stream",
          "name": "stdout",
          "text": [
            "{'self': <__main__.Model1 object at 0x7fd96c901450>, 'hidden_size': 100, 'num_layers': 3, 'learning_rate': 0.0003}\n"
          ]
        },
        {
          "output_type": "execute_result",
          "data": {
            "text/plain": [
              "{'hidden_size': 100, 'learning_rate': 0.0003, 'num_layers': 3}"
            ]
          },
          "metadata": {},
          "execution_count": 48
        }
      ]
    },
    {
      "cell_type": "code",
      "source": [
        "# Alternative way of construct using __dict__ for all params\n",
        "class Model2:\n",
        "    def __init__(self, hidden_size=100, num_layers=3, learning_rate=3e-4):\n",
        "        params = locals()\n",
        "        del params['self']\n",
        "        self.__dict__ = params\n",
        "\n",
        "model2 = Model2()\n",
        "model2.__dict__"
      ],
      "metadata": {
        "colab": {
          "base_uri": "https://localhost:8080/"
        },
        "id": "mnkfr0b5IEPC",
        "outputId": "8d201cc0-24c4-4102-d04f-f0c03b36bb07"
      },
      "execution_count": 51,
      "outputs": [
        {
          "output_type": "execute_result",
          "data": {
            "text/plain": [
              "{'hidden_size': 100, 'learning_rate': 0.0003, 'num_layers': 3}"
            ]
          },
          "metadata": {},
          "execution_count": 51
        }
      ]
    },
    {
      "cell_type": "markdown",
      "source": [
        "# Variable arguments"
      ],
      "metadata": {
        "id": "xXd62p5JIfUW"
      }
    },
    {
      "cell_type": "code",
      "source": [
        "class Model3:\n",
        "    def __init__(self, **kwargs):\n",
        "        self.__dict__ = kwargs\n",
        "\n",
        "model3 = Model3(hidden_size=100, num_layers=3, learning_rate=3e-4)\n",
        "model3.__dict__"
      ],
      "metadata": {
        "colab": {
          "base_uri": "https://localhost:8080/"
        },
        "id": "hyxFe_uBIhVf",
        "outputId": "a4939644-4eab-4343-8b86-4965fb4f1638"
      },
      "execution_count": 52,
      "outputs": [
        {
          "output_type": "execute_result",
          "data": {
            "text/plain": [
              "{'hidden_size': 100, 'learning_rate': 0.0003, 'num_layers': 3}"
            ]
          },
          "metadata": {},
          "execution_count": 52
        }
      ]
    },
    {
      "cell_type": "markdown",
      "source": [
        "#memoization"
      ],
      "metadata": {
        "id": "sWpAO9QIJSZR"
      }
    },
    {
      "cell_type": "code",
      "source": [
        "def fib_helper(n):\n",
        "    if n < 2:\n",
        "        return n\n",
        "    return fib_helper(n - 1) + fib_helper(n - 2)\n",
        "\n",
        "def fib(n):\n",
        "    \"\"\" fib is a wrapper function so that later we can change its behavior\n",
        "    at the top level without affecting the behavior at every recursion step.\n",
        "    \"\"\"\n",
        "    return fib_helper(n)\n",
        "\n",
        "def fib_m_helper(n, computed):\n",
        "    if n in computed:\n",
        "        return computed[n]\n",
        "    computed[n] = fib_m_helper(n - 1, computed) + fib_m_helper(n - 2, computed)\n",
        "    return computed[n]\n",
        "\n",
        "def fib_m(n):\n",
        "    return fib_m_helper(n, {0: 0, 1: 1})"
      ],
      "metadata": {
        "id": "764MtIvWJUQG"
      },
      "execution_count": 53,
      "outputs": []
    },
    {
      "cell_type": "code",
      "source": [
        "for n in range(20):\n",
        "    assert fib(n) == fib_m(n)"
      ],
      "metadata": {
        "id": "yCA-BLZxJXIZ"
      },
      "execution_count": 54,
      "outputs": []
    },
    {
      "cell_type": "code",
      "source": [
        "import time\n",
        "\n",
        "start = time.time()\n",
        "fib(30)\n",
        "print(f'Without memoization, it takes {time.time() - start:7f} seconds.')\n",
        "\n",
        "start = time.time()\n",
        "fib_m(30)\n",
        "print(f'With memoization, it takes {time.time() - start:.7f} seconds.')"
      ],
      "metadata": {
        "colab": {
          "base_uri": "https://localhost:8080/"
        },
        "id": "uVx_LAvsJcP0",
        "outputId": "6ae7973e-7881-4add-99d9-320efc2c9703"
      },
      "execution_count": 55,
      "outputs": [
        {
          "output_type": "stream",
          "name": "stdout",
          "text": [
            "Without memoization, it takes 0.377735 seconds.\n",
            "With memoization, it takes 0.0001135 seconds.\n"
          ]
        }
      ]
    },
    {
      "cell_type": "markdown",
      "source": [
        "#Decorators"
      ],
      "metadata": {
        "id": "-6Uz0y17JsFW"
      }
    },
    {
      "cell_type": "code",
      "source": [
        "def timeit(fn): \n",
        "    # *args and **kwargs are to support positional and named arguments of fn\n",
        "    def get_time(*args, **kwargs): \n",
        "        start = time.time() \n",
        "        output = fn(*args, **kwargs)\n",
        "        print(f\"Time taken in {fn.__name__}: {time.time() - start:.7f}\")\n",
        "        return output  # make sure that the decorator returns the output of fn\n",
        "    return get_time "
      ],
      "metadata": {
        "id": "IrzkbEb1JuSG"
      },
      "execution_count": 56,
      "outputs": []
    },
    {
      "cell_type": "code",
      "source": [
        "@timeit\n",
        "def fib(n):\n",
        "    return fib_helper(n)\n",
        "\n",
        "@timeit\n",
        "def fib_m(n):\n",
        "    return fib_m_helper(n, {0: 0, 1: 1})"
      ],
      "metadata": {
        "id": "G25Jm-XMJyLx"
      },
      "execution_count": 60,
      "outputs": []
    },
    {
      "cell_type": "code",
      "source": [
        "fib(30)\n",
        "fib_m(30)"
      ],
      "metadata": {
        "colab": {
          "base_uri": "https://localhost:8080/"
        },
        "id": "RZxrWPFUJ9fU",
        "outputId": "c498b9b2-0cf5-4e5a-810f-999cd62e229e"
      },
      "execution_count": 64,
      "outputs": [
        {
          "output_type": "stream",
          "name": "stdout",
          "text": [
            "Time taken in fib: 0.3781400\n",
            "Time taken in fib_m: 0.0000236\n"
          ]
        },
        {
          "output_type": "execute_result",
          "data": {
            "text/plain": [
              "832040"
            ]
          },
          "metadata": {},
          "execution_count": 64
        }
      ]
    },
    {
      "cell_type": "markdown",
      "source": [
        "# Caching"
      ],
      "metadata": {
        "id": "FNY0-HMgKY-v"
      }
    },
    {
      "cell_type": "code",
      "source": [
        "import functools\n",
        "\n",
        "@functools.lru_cache()\n",
        "def fib_helper(n):\n",
        "    if n < 2:\n",
        "        return n\n",
        "    return fib_helper(n - 1) + fib_helper(n - 2)\n",
        "\n",
        "@timeit\n",
        "def fib(n):\n",
        "    \"\"\" fib is a wrapper function so that later we can change its behavior\n",
        "    at the top level without affecting the behavior at every recursion step.\n",
        "    \"\"\"\n",
        "    return fib_helper(n)"
      ],
      "metadata": {
        "id": "XAwbODHRKaWG"
      },
      "execution_count": 66,
      "outputs": []
    },
    {
      "cell_type": "code",
      "source": [
        "fib(5)\n",
        "fib_m(5)"
      ],
      "metadata": {
        "colab": {
          "base_uri": "https://localhost:8080/"
        },
        "id": "2MVIT-fRKdhf",
        "outputId": "54b52ff8-19ee-4cbe-c386-fa96c5b37489"
      },
      "execution_count": 83,
      "outputs": [
        {
          "output_type": "stream",
          "name": "stdout",
          "text": [
            "Time taken in fib: 0.0000074\n",
            "Time taken in fib_m: 0.0000110\n"
          ]
        },
        {
          "output_type": "execute_result",
          "data": {
            "text/plain": [
              "5"
            ]
          },
          "metadata": {},
          "execution_count": 83
        }
      ]
    }
  ]
}