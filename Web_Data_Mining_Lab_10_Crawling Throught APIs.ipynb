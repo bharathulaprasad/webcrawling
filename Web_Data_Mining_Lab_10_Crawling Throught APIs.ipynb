{
  "nbformat": 4,
  "nbformat_minor": 0,
  "metadata": {
    "colab": {
      "name": "Web_Data_Mining_Lab_10.ipynb",
      "provenance": [],
      "include_colab_link": true
    },
    "kernelspec": {
      "name": "python3",
      "display_name": "Python 3"
    },
    "language_info": {
      "name": "python"
    }
  },
  "cells": [
    {
      "cell_type": "markdown",
      "metadata": {
        "id": "view-in-github",
        "colab_type": "text"
      },
      "source": [
        "<a href=\"https://colab.research.google.com/github/bharathulaprasad/webcrawling/blob/main/Web_Data_Mining_Lab_10_Crawling%20Throught%20APIs.ipynb\" target=\"_parent\"><img src=\"https://colab.research.google.com/assets/colab-badge.svg\" alt=\"Open In Colab\"/></a>"
      ]
    },
    {
      "cell_type": "markdown",
      "source": [
        "# Crawling Throught APIs\n",
        "\n",
        "An API defines a standard syntax that allows one piece of software to communicate with another piece of software, even though they might be written in different languages or otherwise structured differently.\n",
        "\n",
        "The response from the API is usually in JSON or XML format. JSON is far more popular than XML. Many APIs allow changing of response types. \n",
        "\n",
        "An example of a JSON- formatted API response is\n",
        "\n",
        "{\"user\":{\"id\":123, \"name\":\"First Last\", \"city\":\"Guwahati\"}}\n",
        "\n",
        "Example of an XML formated API responss is"
      ],
      "metadata": {
        "id": "MVb8-oGaHJx4"
      }
    },
    {
      "cell_type": "code",
      "execution_count": null,
      "metadata": {
        "id": "1iX2DfcxHC7c"
      },
      "outputs": [],
      "source": [
        "<user><id>123</id><name>First Last</name><city>Guwahati</city></user>"
      ]
    },
    {
      "cell_type": "markdown",
      "source": [
        "One website https://ipapi.co/14.139.197.66/json gives details of ip address 8.8.8.8. \n",
        "\n",
        "Method 1"
      ],
      "metadata": {
        "id": "JBrAtAejKvpi"
      }
    },
    {
      "cell_type": "code",
      "source": [
        "import json\n",
        "from urllib.request import urlopen\n",
        "import requests\n",
        "response=urlopen('https://ipapi.co/14.139.197.66/json').read()\n",
        "responseJson=json.loads(response)\n",
        "print(responseJson)\n",
        "print(responseJson['city'])"
      ],
      "metadata": {
        "colab": {
          "base_uri": "https://localhost:8080/"
        },
        "id": "xQGy6qXII0io",
        "outputId": "85e9e611-2651-4ca6-e3df-16a51db5e092"
      },
      "execution_count": null,
      "outputs": [
        {
          "output_type": "stream",
          "name": "stdout",
          "text": [
            "{'ip': '14.139.197.66', 'version': 'IPv4', 'city': 'Guwahati', 'region': 'Assam', 'region_code': 'AS', 'country': 'IN', 'country_name': 'India', 'country_code': 'IN', 'country_code_iso3': 'IND', 'country_capital': 'New Delhi', 'country_tld': '.in', 'continent_code': 'AS', 'in_eu': False, 'postal': '781030', 'latitude': 26.1206, 'longitude': 91.6523, 'timezone': 'Asia/Kolkata', 'utc_offset': '+0530', 'country_calling_code': '+91', 'currency': 'INR', 'currency_name': 'Rupee', 'languages': 'en-IN,hi,bn,te,mr,ta,ur,gu,kn,ml,or,pa,as,bh,sat,ks,ne,sd,kok,doi,mni,sit,sa,fr,lus,inc', 'country_area': 3287590.0, 'country_population': 1352617328, 'asn': 'AS55824', 'org': 'NKN Core Network'}\n",
            "Guwahati\n"
          ]
        }
      ]
    },
    {
      "cell_type": "markdown",
      "source": [
        "Method 2"
      ],
      "metadata": {
        "id": "Ag5E0__AK6un"
      }
    },
    {
      "cell_type": "code",
      "source": [
        "import json\n",
        "from urllib.request import urlopen\n",
        "import requests\n",
        "response=requests.get('https://ipapi.co/14.139.197.66/json', headers={'User-Agent':'Mozilla/5.0'})\n",
        "\n",
        "responseJson=json.loads(response.text)\n",
        "print(responseJson)\n",
        "print(responseJson['city'])"
      ],
      "metadata": {
        "colab": {
          "base_uri": "https://localhost:8080/"
        },
        "id": "3AVKZKFbK8zP",
        "outputId": "5752fd60-8041-4e43-e18e-fbf8c5f11fd7"
      },
      "execution_count": null,
      "outputs": [
        {
          "output_type": "stream",
          "name": "stdout",
          "text": [
            "{'ip': '14.139.197.66', 'version': 'IPv4', 'city': 'Guwahati', 'region': 'Assam', 'region_code': 'AS', 'country': 'IN', 'country_name': 'India', 'country_code': 'IN', 'country_code_iso3': 'IND', 'country_capital': 'New Delhi', 'country_tld': '.in', 'continent_code': 'AS', 'in_eu': False, 'postal': '781030', 'latitude': 26.1206, 'longitude': 91.6523, 'timezone': 'Asia/Kolkata', 'utc_offset': '+0530', 'country_calling_code': '+91', 'currency': 'INR', 'currency_name': 'Rupee', 'languages': 'en-IN,hi,bn,te,mr,ta,ur,gu,kn,ml,or,pa,as,bh,sat,ks,ne,sd,kok,doi,mni,sit,sa,fr,lus,inc', 'country_area': 3287590.0, 'country_population': 1352617328, 'asn': 'AS55824', 'org': 'NKN Core Network'}\n",
            "Guwahati\n"
          ]
        }
      ]
    },
    {
      "cell_type": "markdown",
      "source": [
        "Printing the complete data\n",
        "\n",
        "(Works only one method 1)"
      ],
      "metadata": {
        "id": "f75HOEKELb71"
      }
    },
    {
      "cell_type": "code",
      "source": [
        "a=response.decode('utf-8') \n",
        "print(a)"
      ],
      "metadata": {
        "colab": {
          "base_uri": "https://localhost:8080/"
        },
        "id": "2bUVGiXfLew1",
        "outputId": "1ae187bf-8a5d-483f-d746-847e2f9c83bd"
      },
      "execution_count": null,
      "outputs": [
        {
          "output_type": "stream",
          "name": "stdout",
          "text": [
            "{\n",
            "    \"ip\": \"14.139.197.66\",\n",
            "    \"version\": \"IPv4\",\n",
            "    \"city\": \"Guwahati\",\n",
            "    \"region\": \"Assam\",\n",
            "    \"region_code\": \"AS\",\n",
            "    \"country\": \"IN\",\n",
            "    \"country_name\": \"India\",\n",
            "    \"country_code\": \"IN\",\n",
            "    \"country_code_iso3\": \"IND\",\n",
            "    \"country_capital\": \"New Delhi\",\n",
            "    \"country_tld\": \".in\",\n",
            "    \"continent_code\": \"AS\",\n",
            "    \"in_eu\": false,\n",
            "    \"postal\": \"781030\",\n",
            "    \"latitude\": 26.1206,\n",
            "    \"longitude\": 91.6523,\n",
            "    \"timezone\": \"Asia/Kolkata\",\n",
            "    \"utc_offset\": \"+0530\",\n",
            "    \"country_calling_code\": \"+91\",\n",
            "    \"currency\": \"INR\",\n",
            "    \"currency_name\": \"Rupee\",\n",
            "    \"languages\": \"en-IN,hi,bn,te,mr,ta,ur,gu,kn,ml,or,pa,as,bh,sat,ks,ne,sd,kok,doi,mni,sit,sa,fr,lus,inc\",\n",
            "    \"country_area\": 3287590.0,\n",
            "    \"country_population\": 1352617328,\n",
            "    \"asn\": \"AS55824\",\n",
            "    \"org\": \"NKN Core Network\"\n",
            "}\n"
          ]
        }
      ]
    },
    {
      "cell_type": "markdown",
      "source": [
        "There are four main ways (or methods) to request information from a web server via HTTP:\n",
        "\n",
        "• GET\n",
        "\n",
        "• POST\n",
        "\n",
        "• PUT\n",
        "\n",
        "• DELETE\n",
        "\n",
        "Technically, more than these four exist (such as HEAD, OPTIONS, and CONNECT), but they are rarely used in APIs, and it is unlikely that you will ever see them.\n",
        "\n",
        "GET is what you use when you visit a website through the address bar in your browser. GET is the method you are using when you make a call to http://freegeoip.net/ json/50.78.253.58. You can think of GET as saying, “Hey, web server, please retrieve/get me this information.”\n",
        "\n",
        "POST is what you use when you fill out a form or submit information, presumably to a backend script on the server.\n",
        "\n",
        "PUT is less commonly used when interacting with websites, but is used from time to time in APIs. A PUT request is used to update an object or information. An API might require a POST request to create a new user, for example, but it might need a PUT request if you want to update that user’s email address.\n",
        "\n",
        "DELETE is used, as you might imagine, to delete an object."
      ],
      "metadata": {
        "id": "ltFKj1IpMGgc"
      }
    },
    {
      "cell_type": "code",
      "source": [
        "import json\n",
        "from urllib.request import urlopen\n",
        "def getCountry(ipAddress):\n",
        "  response = urlopen('https://ipapi.co/'+ipAddress+'/json/').read().decode('utf-8')\n",
        "  responseJson = json.loads(response)\n",
        "  return responseJson.get('country_code')\n",
        "print(getCountry('50.78.253.58'))\n"
      ],
      "metadata": {
        "colab": {
          "base_uri": "https://localhost:8080/"
        },
        "id": "4uckBxpiMf0M",
        "outputId": "895e3d93-097f-482f-f361-7fc5a8a0eccc"
      },
      "execution_count": null,
      "outputs": [
        {
          "output_type": "stream",
          "name": "stdout",
          "text": [
            "US\n"
          ]
        }
      ]
    },
    {
      "cell_type": "markdown",
      "source": [
        "The following code shows how to manually add data in JSON format"
      ],
      "metadata": {
        "id": "FamrHifgM0Nd"
      }
    },
    {
      "cell_type": "code",
      "source": [
        "import json\n",
        "jsonString='{\"arrayOfNums\":[{\"zero\":0},{\"one\":1}, {\"two\":2}], \"arrayOfFruits\":[{\"fruit\":\"apple\"}, {\"fruit\":\"banana\"}]}'\n",
        "jsonObj=json.loads(jsonString)\n",
        "print(jsonObj.get('arrayOfNums'))\n",
        "print(jsonObj.get('arrayOfNums')[1])\n",
        "print(jsonObj.get('arrayOfFruits'))\n",
        "print(jsonObj.get('arrayOfFruits')[1].get('fruit'))"
      ],
      "metadata": {
        "colab": {
          "base_uri": "https://localhost:8080/"
        },
        "id": "pjwHRG2dM9hV",
        "outputId": "ab340237-2108-442a-8805-9808b329e2d8"
      },
      "execution_count": null,
      "outputs": [
        {
          "output_type": "stream",
          "name": "stdout",
          "text": [
            "[{'zero': 0}, {'one': 1}, {'two': 2}]\n",
            "{'one': 1}\n",
            "[{'fruit': 'apple'}, {'fruit': 'banana'}]\n",
            "banana\n"
          ]
        }
      ]
    }
  ]
}